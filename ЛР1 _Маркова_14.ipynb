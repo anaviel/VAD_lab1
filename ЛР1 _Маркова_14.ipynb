{
 "cells": [
  {
   "cell_type": "markdown",
   "id": "QBdVRCs3LK2Z",
   "metadata": {
    "id": "QBdVRCs3LK2Z"
   },
   "source": [
    "Импорт библиотеки и чтение таблицы:"
   ]
  },
  {
   "cell_type": "code",
   "execution_count": 1,
   "id": "034b1faf-3a6b-4323-aac8-a1bdf24ed572",
   "metadata": {
    "colab": {
     "base_uri": "https://localhost:8080/",
     "height": 339
    },
    "id": "034b1faf-3a6b-4323-aac8-a1bdf24ed572",
    "outputId": "01a1dfd0-af0d-42fd-a31e-8f974639b456"
   },
   "outputs": [
    {
     "name": "stdout",
     "output_type": "stream",
     "text": [
      "                               Name  year  SellingPrice  kmdriven     fuel  \\\n",
      "0                     Maruti 800 AC  2007       60000.0   70000.0   Petrol   \n",
      "1          Maruti Wagon R LXI Minor  2007      135000.0   50000.0   Petrol   \n",
      "2              Hyundai Verna 1.6 SX  2012      600000.0  100000.0   Diesel   \n",
      "3            Datsun RediGO T Option  2017      250000.0   46000.0   Petrol   \n",
      "4             Honda Amaze VX i-DTEC  2014      450000.0  141000.0   Diesel   \n",
      "5              Maruti Alto LX BSIII  2007      140000.0  125000.0   Petrol   \n",
      "6         Hyundai Xcent 1.2 Kappa S  2016      550000.0   25000.0   Petrol   \n",
      "7         Tata Indigo Grand Petroll  2014      240000.0   60000.0   Petrol   \n",
      "8          Hyundai Creta 1.6 VTVT S  2015      850000.0   25000.0  Petroll   \n",
      "9          Maruti Celerio Green VXI  2017      365000.0   78000.0      CNG   \n",
      "10          Chevrolet Sail 1.2 Base  2015      260000.0   35000.0   Petrol   \n",
      "11         Tata Indigo Grand Petrol  2014      250000.0  100000.0   Petrol   \n",
      "12  Toyota Corolla Altis 1.8 VL CVT  2018     1650000.0   25000.0   Petrol   \n",
      "13                    Maruti 800 AC  2007       60000.0   70000.0   Petrol   \n",
      "14         Maruti Wagon R LXI Minor  2007      135000.0   50000.0   Petrol   \n",
      "15             Hyundai Verna 1.6 SX  2012      600000.0  100000.0   Diesel   \n",
      "16           Datsun RediGO T Option  2017      250000.0   46000.0   Petrol   \n",
      "17            Honda Amaze VX i-DTEC  2014      450000.0  141000.0   Diesel   \n",
      "18             Maruti Alto LX BSIII  2007      140000.0  125000.0   Petrol   \n",
      "19        Hyundai Xcent 1.2 Kappa S  2016      550000.0   25000.0   Petrol   \n",
      "\n",
      "   seller_Type transmission         owner  \n",
      "0   Individual       Manual   First Owner  \n",
      "1   Individual       Manual   First Owner  \n",
      "2   Individual       Manual   First Owner  \n",
      "3   Individual       Manual   First Owner  \n",
      "4   Individual       Manual  Second Owner  \n",
      "5   Individual       Manual   First Owner  \n",
      "6   Individual       Manual   First Owner  \n",
      "7   Individual       Manual  Second Owner  \n",
      "8   Individual       Manual   First Owner  \n",
      "9   Individual       Manual   First Owner  \n",
      "10  Individual       Manual   First Owner  \n",
      "11  Individual       Manual   First Owner  \n",
      "12      Dealer    Automatic   First Owner  \n",
      "13  Individual       Manual   First Owner  \n",
      "14  Individual       Manual   First Owner  \n",
      "15  Individual       Manual   First Owner  \n",
      "16  Individual       Manual   First Owner  \n",
      "17  Individual       Manual  Second Owner  \n",
      "18  Individual       Manual   First Owner  \n",
      "19  Individual       Manual   First Owner  \n"
     ]
    }
   ],
   "source": [
    "import pandas as pd\n",
    "df = pd.read_csv('auto.csv')\n",
    "print(df.head(20))"
   ]
  },
  {
   "cell_type": "markdown",
   "id": "wpdFZxIMK2sV",
   "metadata": {
    "id": "wpdFZxIMK2sV"
   },
   "source": [
    "Оценка данных (есть ли пропуски, сколько всего строк, какие типы данных у столбцов):"
   ]
  },
  {
   "cell_type": "code",
   "execution_count": 37,
   "id": "cafaa014-597a-4e6f-8132-d981c1606792",
   "metadata": {
    "id": "cafaa014-597a-4e6f-8132-d981c1606792",
    "outputId": "9c522b89-7457-4c78-c8da-6b6d42932f01"
   },
   "outputs": [
    {
     "name": "stdout",
     "output_type": "stream",
     "text": [
      "<class 'pandas.core.frame.DataFrame'>\n",
      "RangeIndex: 4344 entries, 0 to 4343\n",
      "Data columns (total 8 columns):\n",
      " #   Column        Non-Null Count  Dtype  \n",
      "---  ------        --------------  -----  \n",
      " 0   Name          4344 non-null   object \n",
      " 1   year          4344 non-null   int64  \n",
      " 2   SellingPrice  4342 non-null   float64\n",
      " 3   kmdriven      4343 non-null   float64\n",
      " 4   fuel          4343 non-null   object \n",
      " 5   seller_Type   4344 non-null   object \n",
      " 6   transmission  4344 non-null   object \n",
      " 7   owner         4344 non-null   object \n",
      "dtypes: float64(2), int64(1), object(5)\n",
      "memory usage: 271.6+ KB\n"
     ]
    }
   ],
   "source": [
    "df.info()"
   ]
  },
  {
   "cell_type": "markdown",
   "id": "7D9qe0FpLjJ-",
   "metadata": {
    "id": "7D9qe0FpLjJ-"
   },
   "source": [
    "Оценка числовых столбцов:"
   ]
  },
  {
   "cell_type": "code",
   "execution_count": 38,
   "id": "5bb0f652-039d-402c-a6fa-1882dbdc2924",
   "metadata": {
    "id": "5bb0f652-039d-402c-a6fa-1882dbdc2924",
    "outputId": "430c5d04-bbb2-48aa-88d2-8af5e46ab926"
   },
   "outputs": [
    {
     "name": "stdout",
     "output_type": "stream",
     "text": [
      "              year  SellingPrice       kmdriven\n",
      "count  4344.000000  4.342000e+03    4343.000000\n",
      "mean   2013.092311  5.039987e+05   66193.063320\n",
      "std       4.214543  5.784465e+05   46636.648764\n",
      "min    1992.000000  2.000000e+04       1.000000\n",
      "25%    2011.000000  2.100000e+05   35000.000000\n",
      "50%    2014.000000  3.500000e+05   60000.000000\n",
      "75%    2016.000000  6.000000e+05   90000.000000\n",
      "max    2020.000000  8.900000e+06  806599.000000\n"
     ]
    }
   ],
   "source": [
    "print(df.describe())"
   ]
  },
  {
   "cell_type": "markdown",
   "id": "yEa3amOqLoCk",
   "metadata": {
    "id": "yEa3amOqLoCk"
   },
   "source": [
    "Вывод названий столбцов:\n"
   ]
  },
  {
   "cell_type": "code",
   "execution_count": 39,
   "id": "203b1e6c-27ad-4475-ab1f-097582624f75",
   "metadata": {
    "id": "203b1e6c-27ad-4475-ab1f-097582624f75",
    "outputId": "bc36e62a-6de5-4ccd-a962-e4b3e485d3c1"
   },
   "outputs": [
    {
     "name": "stdout",
     "output_type": "stream",
     "text": [
      "Index(['Name', 'year', 'SellingPrice', 'kmdriven', 'fuel', 'seller_Type',\n",
      "       'transmission', 'owner'],\n",
      "      dtype='object')\n"
     ]
    }
   ],
   "source": [
    "print(df.columns)"
   ]
  },
  {
   "cell_type": "markdown",
   "id": "YiMDtXZLMTmC",
   "metadata": {
    "id": "YiMDtXZLMTmC"
   },
   "source": [
    "Изменение названий столбцов:"
   ]
  },
  {
   "cell_type": "code",
   "execution_count": 40,
   "id": "e26e18bf-742b-448c-bf74-2594f642371a",
   "metadata": {
    "id": "e26e18bf-742b-448c-bf74-2594f642371a",
    "outputId": "4617ac19-86d7-4374-e07f-8121b71e47aa"
   },
   "outputs": [
    {
     "name": "stdout",
     "output_type": "stream",
     "text": [
      "Index(['name', 'year', 'selling_price', 'kilometers_driven', 'fuel',\n",
      "       'seller_type', 'transmission', 'owner'],\n",
      "      dtype='object')\n"
     ]
    }
   ],
   "source": [
    "df.rename(columns={\n",
    "    'Name': 'name',\n",
    "    'year': 'year',\n",
    "    'SellingPrice': 'selling_price',\n",
    "    'kmdriven': 'kilometers_driven',\n",
    "    'fuel': 'fuel',\n",
    "    'seller_Type': 'seller_type',\n",
    "    'transmission': 'transmission',\n",
    "    'owner': 'owner'\n",
    "}, inplace=True) # inplace=True - изменяется текущий DataFrame вместо создания нового\n",
    "\n",
    "# Проверяем новые названия\n",
    "print(df.columns)"
   ]
  },
  {
   "cell_type": "markdown",
   "id": "0CxSkfk0MftK",
   "metadata": {
    "id": "0CxSkfk0MftK"
   },
   "source": [
    "Проверка данных на наличие пропусков:"
   ]
  },
  {
   "cell_type": "code",
   "execution_count": 41,
   "id": "68051952-d927-403f-b563-6275c6b80f62",
   "metadata": {
    "id": "68051952-d927-403f-b563-6275c6b80f62",
    "outputId": "dce159db-a9ab-4b32-8573-2081112c05bb"
   },
   "outputs": [
    {
     "name": "stdout",
     "output_type": "stream",
     "text": [
      "       name   year  selling_price  kilometers_driven   fuel  seller_type  \\\n",
      "0     False  False          False              False  False        False   \n",
      "1     False  False          False              False  False        False   \n",
      "2     False  False          False              False  False        False   \n",
      "3     False  False          False              False  False        False   \n",
      "4     False  False          False              False  False        False   \n",
      "...     ...    ...            ...                ...    ...          ...   \n",
      "4339  False  False          False              False  False        False   \n",
      "4340  False  False          False              False  False        False   \n",
      "4341  False  False          False              False  False        False   \n",
      "4342  False  False           True               True  False        False   \n",
      "4343  False  False           True              False   True        False   \n",
      "\n",
      "      transmission  owner  \n",
      "0            False  False  \n",
      "1            False  False  \n",
      "2            False  False  \n",
      "3            False  False  \n",
      "4            False  False  \n",
      "...            ...    ...  \n",
      "4339         False  False  \n",
      "4340         False  False  \n",
      "4341         False  False  \n",
      "4342         False  False  \n",
      "4343         False  False  \n",
      "\n",
      "[4344 rows x 8 columns]\n",
      "name                 0\n",
      "year                 0\n",
      "selling_price        2\n",
      "kilometers_driven    1\n",
      "fuel                 1\n",
      "seller_type          0\n",
      "transmission         0\n",
      "owner                0\n",
      "dtype: int64\n"
     ]
    }
   ],
   "source": [
    "print(df.isna())\n",
    "print(df.isna().sum())"
   ]
  },
  {
   "cell_type": "markdown",
   "id": "w2zCpYjPMn6e",
   "metadata": {
    "id": "w2zCpYjPMn6e"
   },
   "source": [
    "Удаление строк, в которых в столбцах selling_price, kilometers_driven или fuel есть NaN:"
   ]
  },
  {
   "cell_type": "code",
   "execution_count": 42,
   "id": "2cc35515-4e3c-41a5-95ce-e9997f725ad1",
   "metadata": {
    "id": "2cc35515-4e3c-41a5-95ce-e9997f725ad1",
    "outputId": "a8d16764-1ebc-43c6-c7af-3a80c3a17cb9"
   },
   "outputs": [
    {
     "name": "stdout",
     "output_type": "stream",
     "text": [
      "                  name  year  selling_price  kilometers_driven    fuel  \\\n",
      "4339  Renault KWID RXT  2016       225000.0            40000.0  Petrol   \n",
      "4340  Renault KWID RXT  2016       225000.0            40000.0  Petrol   \n",
      "4341  Renault KWID RXT  2016       225000.0            40000.0  Petrol   \n",
      "\n",
      "     seller_type transmission        owner  \n",
      "4339  Individual       Manual  First Owner  \n",
      "4340  Individual       Manual  First Owner  \n",
      "4341  Individual       Manual  First Owner  \n"
     ]
    }
   ],
   "source": [
    "df = df.dropna(subset=['selling_price', 'kilometers_driven', 'fuel'])\n",
    "print(df.tail(3))"
   ]
  },
  {
   "cell_type": "markdown",
   "id": "RxJdzxuQMvT1",
   "metadata": {
    "id": "RxJdzxuQMvT1"
   },
   "source": [
    "Получение и удаление явных дубликатов:"
   ]
  },
  {
   "cell_type": "code",
   "execution_count": 43,
   "id": "1bbb2075-d523-43f0-b717-311249944cf0",
   "metadata": {
    "id": "1bbb2075-d523-43f0-b717-311249944cf0",
    "outputId": "419994e8-74b0-4eda-e806-f1b2d0c81925"
   },
   "outputs": [
    {
     "name": "stdout",
     "output_type": "stream",
     "text": [
      "763\n"
     ]
    }
   ],
   "source": [
    "df[df.duplicated()] # Получение явных дубликатов с помощью логической индексации\n",
    "print(df.duplicated().sum()) # Подсчет количества явных дубликатов"
   ]
  },
  {
   "cell_type": "code",
   "execution_count": 44,
   "id": "a7f73ba5-ca58-4376-bb1f-72b627a02ca2",
   "metadata": {
    "id": "a7f73ba5-ca58-4376-bb1f-72b627a02ca2",
    "outputId": "cdc9ab4d-03c6-4016-c60d-e52c0aebe49e"
   },
   "outputs": [
    {
     "name": "stdout",
     "output_type": "stream",
     "text": [
      "0\n"
     ]
    }
   ],
   "source": [
    "df = df.drop_duplicates().reset_index(drop=True) # Удаление дубликатов и обновление индексации\n",
    "                                             # аргумент drop, чтобы не создавать столбец index\n",
    "print(df.duplicated().sum()) # Подсчет количества явных дубликатов"
   ]
  },
  {
   "cell_type": "markdown",
   "id": "7DO8rAIfM2FC",
   "metadata": {
    "id": "7DO8rAIfM2FC"
   },
   "source": [
    "Получение и удаление (замена) неявных дубликатов:\n",
    "\n",
    "---\n",
    "\n"
   ]
  },
  {
   "cell_type": "code",
   "execution_count": 45,
   "id": "911d42a3-b41c-46b1-8435-620f69c0414c",
   "metadata": {
    "id": "911d42a3-b41c-46b1-8435-620f69c0414c",
    "outputId": "bd1077e4-ccea-4b63-9855-25354ef2df58"
   },
   "outputs": [
    {
     "name": "stdout",
     "output_type": "stream",
     "text": [
      "['Petrol' 'Diesel' 'Petroll' 'CNG' 'LPG' 'Electric']\n",
      "['Individual' 'Dealer' 'Dealeer' 'Trustmark Dealer']\n",
      "['Manual' 'Automatic']\n",
      "['First Owner' 'Second Owner' 'Fourth & Above Owner' 'Third Owner'\n",
      " 'Test Drive Car']\n"
     ]
    }
   ],
   "source": [
    "print(df['fuel'].unique()) # Поиск уникальных значений для выявления неявных дубликатов\n",
    "print(df['seller_type'].unique())\n",
    "print(df['transmission'].unique())\n",
    "print(df['owner'].unique())"
   ]
  },
  {
   "cell_type": "code",
   "execution_count": 46,
   "id": "3d3804b7-0a20-4f10-8331-9cfd867e8add",
   "metadata": {
    "id": "3d3804b7-0a20-4f10-8331-9cfd867e8add",
    "outputId": "d518f034-e842-49a2-c4a2-c84347fefdf1"
   },
   "outputs": [
    {
     "name": "stdout",
     "output_type": "stream",
     "text": [
      "['Petrol' 'Diesel' 'CNG' 'LPG' 'Electric']\n",
      "['Individual' 'Dealer' 'Trustmark Dealer']\n"
     ]
    }
   ],
   "source": [
    "df['fuel'] = df['fuel'].replace('Petroll', 'Petrol') # Удаление неявных дубликатов путём замены\n",
    "df['seller_type'] = df['seller_type'].replace('Dealeer', 'Dealer')\n",
    "print(df['fuel'].unique()) # Проверка путём определения уникальных значений\n",
    "print(df['seller_type'].unique())"
   ]
  },
  {
   "cell_type": "markdown",
   "id": "GCrCl_6LNf9z",
   "metadata": {
    "id": "GCrCl_6LNf9z"
   },
   "source": [
    "Проверка типов данных в столбцах:"
   ]
  },
  {
   "cell_type": "code",
   "execution_count": 47,
   "id": "342cbd72-0a8b-4e3d-ad13-0195ffd85343",
   "metadata": {
    "id": "342cbd72-0a8b-4e3d-ad13-0195ffd85343",
    "outputId": "e9d4f573-578d-42ef-91f6-2287b0cbc507"
   },
   "outputs": [
    {
     "name": "stdout",
     "output_type": "stream",
     "text": [
      "name                  object\n",
      "year                   int64\n",
      "selling_price        float64\n",
      "kilometers_driven    float64\n",
      "fuel                  object\n",
      "seller_type           object\n",
      "transmission          object\n",
      "owner                 object\n",
      "dtype: object\n",
      "            name  year  selling_price  kilometers_driven    fuel seller_type  \\\n",
      "0  Maruti 800 AC  2007        60000.0            70000.0  Petrol  Individual   \n",
      "\n",
      "  transmission        owner  \n",
      "0       Manual  First Owner  \n"
     ]
    }
   ],
   "source": [
    "print(df.dtypes)\n",
    "print(df.head(1))"
   ]
  },
  {
   "cell_type": "markdown",
   "id": "C9bpHCDUNiHl",
   "metadata": {
    "id": "C9bpHCDUNiHl"
   },
   "source": [
    "Изменение типов данных столбцов:"
   ]
  },
  {
   "cell_type": "code",
   "execution_count": 48,
   "id": "273cc639-6e98-42be-befa-788027c5e87f",
   "metadata": {
    "id": "273cc639-6e98-42be-befa-788027c5e87f",
    "outputId": "b1955fc1-8577-442c-fff5-a17b9be5dab7"
   },
   "outputs": [
    {
     "name": "stdout",
     "output_type": "stream",
     "text": [
      "name                 object\n",
      "year                  int64\n",
      "selling_price         int64\n",
      "kilometers_driven     int64\n",
      "fuel                 object\n",
      "seller_type          object\n",
      "transmission         object\n",
      "owner                object\n",
      "dtype: object\n",
      "            name  year  selling_price  kilometers_driven    fuel seller_type  \\\n",
      "0  Maruti 800 AC  2007          60000              70000  Petrol  Individual   \n",
      "\n",
      "  transmission        owner  \n",
      "0       Manual  First Owner  \n"
     ]
    }
   ],
   "source": [
    "df['selling_price'] = df['selling_price'].astype('int64') # Применение метода astype для перевода в нужный тип\n",
    "df['kilometers_driven'] = df['kilometers_driven'].astype('int64')\n",
    "print(df.dtypes)\n",
    "print(df.head(1))"
   ]
  },
  {
   "cell_type": "markdown",
   "id": "w6T4VA9yNp4g",
   "metadata": {
    "id": "w6T4VA9yNp4g"
   },
   "source": [
    "Задание 1:"
   ]
  },
  {
   "cell_type": "code",
   "execution_count": 49,
   "id": "3ce236cb-5eb4-4e1c-bfd7-e65e1ec97cf9",
   "metadata": {
    "id": "3ce236cb-5eb4-4e1c-bfd7-e65e1ec97cf9",
    "outputId": "324ad8b9-b01e-40f8-ef42-173408c3bc35"
   },
   "outputs": [
    {
     "name": "stdout",
     "output_type": "stream",
     "text": [
      "fuel      seller_type     \n",
      "CNG       Dealer                 9\n",
      "          Individual            28\n",
      "Diesel    Dealer               377\n",
      "          Individual          1409\n",
      "          Trustmark Dealer      14\n",
      "Electric  Dealer                 1\n",
      "LPG       Dealer                 1\n",
      "          Individual            21\n",
      "Petrol    Dealer               324\n",
      "          Individual          1376\n",
      "          Trustmark Dealer      19\n",
      "dtype: int64\n"
     ]
    }
   ],
   "source": [
    "grouped_fuel_seller = df.groupby(['fuel', 'seller_type']).size() # Группировка fuel по количеству seller_type\n",
    "print(grouped_fuel_seller)"
   ]
  },
  {
   "cell_type": "markdown",
   "id": "yY0L1vOfNr8M",
   "metadata": {
    "id": "yY0L1vOfNr8M"
   },
   "source": [
    "Задание 2:"
   ]
  },
  {
   "cell_type": "code",
   "execution_count": 50,
   "id": "e8a5b92b-663c-4831-ab70-2d52bd47154e",
   "metadata": {
    "id": "e8a5b92b-663c-4831-ab70-2d52bd47154e",
    "outputId": "31518510-f56b-41df-a452-2703a39981b9"
   },
   "outputs": [
    {
     "name": "stdout",
     "output_type": "stream",
     "text": [
      "        fuel       seller_type  count\n",
      "3     Diesel        Individual   1409\n",
      "9     Petrol        Individual   1376\n",
      "2     Diesel            Dealer    377\n",
      "8     Petrol            Dealer    324\n",
      "1        CNG        Individual     28\n",
      "7        LPG        Individual     21\n",
      "10    Petrol  Trustmark Dealer     19\n",
      "4     Diesel  Trustmark Dealer     14\n",
      "0        CNG            Dealer      9\n",
      "6        LPG            Dealer      1\n",
      "5   Electric            Dealer      1\n"
     ]
    }
   ],
   "source": [
    "df_fuel_seller = grouped_fuel_seller.reset_index() # Создание DataFrame из группировки\n",
    "df_fuel_seller.columns = ['fuel', 'seller_type', 'count'] # Переименование столбца с количеством в 'count'\n",
    "df_fuel_seller_sorted = df_fuel_seller.sort_values(by='count', ascending=False) # Сортировка по столбцу 'count' (ascending=False - по убыванию)\n",
    "print(df_fuel_seller_sorted)"
   ]
  },
  {
   "cell_type": "markdown",
   "id": "F03nFhDMNuRK",
   "metadata": {
    "id": "F03nFhDMNuRK"
   },
   "source": [
    "Задание 3:"
   ]
  },
  {
   "cell_type": "code",
   "execution_count": 51,
   "id": "49ab424b-f3e3-4e08-80b8-ccad1da213a7",
   "metadata": {
    "id": "49ab424b-f3e3-4e08-80b8-ccad1da213a7",
    "outputId": "d3c74b0b-25e6-407b-b535-3ad6897490f2"
   },
   "outputs": [
    {
     "name": "stdout",
     "output_type": "stream",
     "text": [
      "                      selling_price\n",
      "owner                              \n",
      "Test Drive Car            954293.94\n",
      "First Owner               565513.71\n",
      "Second Owner              341850.00\n",
      "Third Owner               266142.21\n",
      "Fourth & Above Owner      181213.29\n"
     ]
    }
   ],
   "source": [
    "pivot_owner_price = df.pivot_table(values='selling_price', index='owner') # Создание сводной таблицы с расчетом средней цены по владельцам\n",
    "pivot_owner_price_sorted = pivot_owner_price.sort_values(by='selling_price', ascending=False) # Сортировка по убыванию средней цены\n",
    "pivot_owner_price_sorted = pivot_owner_price_sorted.round(2) # Округление до двух знаков\n",
    "print(pivot_owner_price_sorted)"
   ]
  },
  {
   "cell_type": "markdown",
   "id": "xAnuTLGKODAt",
   "metadata": {
    "id": "xAnuTLGKODAt"
   },
   "source": [
    "Задание 4:"
   ]
  },
  {
   "cell_type": "code",
   "execution_count": 52,
   "id": "77586e85-6041-4606-ac1d-a2e4e9954f64",
   "metadata": {
    "id": "77586e85-6041-4606-ac1d-a2e4e9954f64",
    "outputId": "e6398a42-5a22-4ec1-feb9-c7188c5a6a7f"
   },
   "outputs": [
    {
     "name": "stdout",
     "output_type": "stream",
     "text": [
      "owner             First Owner  Fourth & Above Owner  Second Owner  \\\n",
      "seller_type                                                         \n",
      "Dealer              679505.08             117499.50     468499.94   \n",
      "Individual          518820.19             182958.88     326687.32   \n",
      "Trustmark Dealer    823709.68                   NaN     800000.00   \n",
      "\n",
      "owner             Test Drive Car  Third Owner  \n",
      "seller_type                                    \n",
      "Dealer                 954293.94    462333.22  \n",
      "Individual                   NaN    259836.07  \n",
      "Trustmark Dealer             NaN          NaN  \n"
     ]
    }
   ],
   "source": [
    "pivot_owner_seller_price = df.pivot_table(values='selling_price', index='seller_type', columns='owner') # Создание сводной таблицы с типом продавца\n",
    "                                                                                                        # в строках и типом владельца в столбцах\n",
    "pivot_owner_seller_price_sorted = pivot_owner_seller_price.sort_index() # Сортировка по возрастанию по seller_type\n",
    "pivot_owner_seller_price_sorted = pivot_owner_seller_price_sorted.round(2) # Округление до двух знаков\n",
    "print(pivot_owner_seller_price_sorted)"
   ]
  }
 ],
 "metadata": {
  "colab": {
   "provenance": []
  },
  "kernelspec": {
   "display_name": "Python 3 (ipykernel)",
   "language": "python",
   "name": "python3"
  },
  "language_info": {
   "codemirror_mode": {
    "name": "ipython",
    "version": 3
   },
   "file_extension": ".py",
   "mimetype": "text/x-python",
   "name": "python",
   "nbconvert_exporter": "python",
   "pygments_lexer": "ipython3",
   "version": "3.12.5"
  }
 },
 "nbformat": 4,
 "nbformat_minor": 5
}
